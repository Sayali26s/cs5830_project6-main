{
 "cells": [
  {
   "cell_type": "markdown",
   "metadata": {
    "id": "GkiDtIKAJB7_"
   },
   "source": [
    "## Imports"
   ]
  },
  {
   "cell_type": "code",
   "execution_count": null,
   "metadata": {
    "id": "iMZd0ouRYdvG"
   },
   "outputs": [],
   "source": [
    "import pandas as pd\n",
    "import numpy as np\n",
    "import matplotlib.pyplot as plt\n",
    "import seaborn as sns\n",
    "from sklearn.model_selection import KFold\n",
    "from sklearn.impute import SimpleImputer\n",
    "from sklearn.metrics import confusion_matrix\n",
    "from sklearn.metrics import precision_recall_fscore_support\n",
    "from statsmodels.tsa.seasonal import seasonal_decompose\n",
    "import statsmodels.formula.api as smf\n",
    "from sklearn.linear_model import LinearRegression\n",
    "from sklearn.model_selection import train_test_split"
   ]
  },
  {
   "cell_type": "code",
   "execution_count": null,
   "metadata": {
    "id": "hg79VHhqYgnU"
   },
   "outputs": [],
   "source": [
    "# place data in a folder called /content/ or change file path:\n",
    "\n",
    "# Preprocess the data\n",
    "df = pd.read_csv('RRCA_baseflow.csv')\n",
    "#display(df.head(5))\n",
    "# df.describe()\n",
    "df['Date'] -= 693963\n",
    "df['Date'] = pd.to_datetime(df['Date'], origin='1900-01-01', unit='D')"
   ]
  },
  {
   "cell_type": "markdown",
   "metadata": {
    "id": "uMnuD5saJG3d"
   },
   "source": [
    "## Analysis"
   ]
  },
  {
   "cell_type": "code",
   "execution_count": null,
   "metadata": {
    "id": "aY65naJUJJxq"
   },
   "outputs": [],
   "source": [
    "# Add columns Year and Month\n",
    "df['Year'] = df['Date'].dt.year\n",
    "df['Month'] = df['Date'].dt.month\n",
    "\n",
    "# Add columns month_shift and days_since_rec_start\n",
    "df[\"month_shifted\"] =  abs( df[\"Month\"]-7)\n",
    "df[\"days_since_rec_start\"] = (6-df[\"month_shifted\"]) * 30"
   ]
  },
  {
   "cell_type": "code",
   "execution_count": null,
   "metadata": {
    "colab": {
     "base_uri": "https://localhost:8080/",
     "height": 542
    },
    "id": "urTqYdLPK6ef",
    "outputId": "32cccbdb-94bd-4286-bdab-e9b586d7cddf"
   },
   "outputs": [],
   "source": [
    "# Group data by year\n",
    "grouped = df.groupby('Year').mean()\n",
    "\n",
    "# Plot line graph for each year\n",
    "plt.scatter(grouped.index, grouped['Observed'])\n",
    "plt.plot(grouped.index, grouped['Observed'])\n",
    "\n",
    "# Add labels and title\n",
    "plt.xlabel('Year')\n",
    "plt.ylabel('Mean Observed')\n",
    "plt.title('Mean Observed Data Over Time')\n",
    "\n",
    "# Show plot\n",
    "plt.xticks(rotation=45)\n",
    "plt.tight_layout()\n",
    "plt.show()"
   ]
  },
  {
   "cell_type": "markdown",
   "metadata": {},
   "source": [
    "Data post 1950 was way larger than current data"
   ]
  },
  {
   "cell_type": "code",
   "execution_count": null,
   "metadata": {},
   "outputs": [],
   "source": [
    "plt.figure()\n",
    "sns.lineplot(data=df, x=\"Date\", y=\"Observed\")\n",
    "plt.title(\"Observed over Time\")\n",
    "\n",
    "plt.figure()\n",
    "sns.lineplot(data=df, x=\"Date\", y=\"Irrigation_pumping\")\n",
    "plt.title(\"Irrigation_pumping over Time\")"
   ]
  },
  {
   "cell_type": "code",
   "execution_count": null,
   "metadata": {
    "id": "ZfeSkI6ILCf4"
   },
   "outputs": [],
   "source": [
    "df = df[df['Date'].dt.year >= 1950]"
   ]
  },
  {
   "cell_type": "markdown",
   "metadata": {
    "id": "QnkahWMcaZY0"
   },
   "source": [
    "Observed Data Over Time from April to October(summer) and November to March(winter)"
   ]
  },
  {
   "cell_type": "code",
   "execution_count": null,
   "metadata": {
    "colab": {
     "base_uri": "https://localhost:8080/",
     "height": 531
    },
    "id": "-MYVwMbyLJrC",
    "outputId": "96a38272-e39b-4667-efc8-0dfe5120a658"
   },
   "outputs": [],
   "source": [
    "# Divide data into two periods April to October and November to March\n",
    "df_apr_oct = df[(df['Month'] >= 4) & (df['Month'] <= 10)]\n",
    "df_nov_mar = df[(df['Month'] >= 11) | (df['Month'] <= 3)]\n",
    "\n",
    "# Group data by year for each period and calculate the mean\n",
    "grouped_apr_oct = df_apr_oct.groupby(df_apr_oct['Date'].dt.year).mean()\n",
    "grouped_nov_mar = df_nov_mar.groupby(df_nov_mar['Date'].dt.year).mean()\n",
    "\n",
    "# Determine common y-axis limits\n",
    "y_min = min(grouped_apr_oct['Observed'].min(), grouped_nov_mar['Observed'].min())\n",
    "y_max = max(grouped_apr_oct['Observed'].max(), grouped_nov_mar['Observed'].max())\n",
    "\n",
    "# Plot line graph for each period\n",
    "plt.figure(figsize=(12, 6))\n",
    "\n",
    "plt.subplot(1, 2, 1)\n",
    "plt.plot(grouped_apr_oct.index, grouped_apr_oct['Observed'])\n",
    "plt.xlabel('Year')\n",
    "plt.ylabel('Mean Observed')\n",
    "plt.title('April to October: Mean Observed Data Over Time')\n",
    "plt.ylim(y_min, y_max)\n",
    "\n",
    "plt.subplot(1, 2, 2)\n",
    "plt.plot(grouped_nov_mar.index, grouped_nov_mar['Observed'])\n",
    "plt.xlabel('Year')\n",
    "plt.ylabel('Mean Observed')\n",
    "plt.title('November to March: Mean Observed Data Over Time')\n",
    "plt.ylim(y_min, y_max)\n",
    "\n",
    "plt.tight_layout()\n",
    "plt.show()"
   ]
  },
  {
   "cell_type": "markdown",
   "metadata": {
    "id": "KtqIoyKZaszd"
   },
   "source": [
    "Data observed for Each Season spring, summer, fall, winter"
   ]
  },
  {
   "cell_type": "code",
   "execution_count": null,
   "metadata": {
    "colab": {
     "base_uri": "https://localhost:8080/",
     "height": 1000
    },
    "id": "5JjCdEqgLRo7",
    "outputId": "dd45d01c-c42a-4ad7-e41f-551b6cce3655"
   },
   "outputs": [],
   "source": [
    "# Define season\n",
    "seasons = {\n",
    "    'spring': (3, 5),\n",
    "    'summer': (6, 9),\n",
    "    'fall': (10, 11),\n",
    "    'winter': (12, 2)\n",
    "}\n",
    "\n",
    "# List of columns\n",
    "columns_to_plot = ['Observed', 'Evapotranspiration', 'Precipitation', 'Irrigation_pumping']\n",
    "\n",
    "# Loop through each column\n",
    "for column in columns_to_plot:\n",
    "    plt.figure(figsize=(16, 8))\n",
    "    for season, (start_month, end_month) in seasons.items():\n",
    "        # Extract data for the current season\n",
    "        season_data = df[(df['Month'] >= start_month) & (df['Month'] <= end_month)]\n",
    "\n",
    "        # Group data by year and compute the mean for each year\n",
    "        season_data = season_data.groupby('Year')[column].mean()\n",
    "\n",
    "        # Plot line graph for the current season\n",
    "        plt.plot(season_data.index, season_data.values, label=season)\n",
    "\n",
    "    # Add labels and legend\n",
    "    plt.xlabel('Year')\n",
    "    plt.ylabel(column)\n",
    "    plt.title(f'{column} Data for Each Season')\n",
    "    plt.legend()\n",
    "    plt.show()"
   ]
  },
  {
   "cell_type": "code",
   "execution_count": null,
   "metadata": {
    "colab": {
     "base_uri": "https://localhost:8080/"
    },
    "id": "u6uKYsEac9k3",
    "outputId": "2e65d7bf-68ec-4f13-ad51-4bb42731411a"
   },
   "outputs": [],
   "source": [
    "unique_segment_ids = df['Segment_id'].nunique()\n",
    "print(\"Count of unique Segment IDs:\", unique_segment_ids)"
   ]
  },
  {
   "cell_type": "code",
   "execution_count": null,
   "metadata": {
    "colab": {
     "base_uri": "https://localhost:8080/",
     "height": 749
    },
    "id": "1NWM3vPWk4qT",
    "outputId": "4cb944cf-b657-4718-86d3-9236189b9fb6"
   },
   "outputs": [],
   "source": [
    "# Plot a line for each segment\n",
    "plt.figure(figsize=(12, 8))\n",
    "\n",
    "# Get unique segment IDs\n",
    "segment_year_median = df.groupby(['Segment_id', 'Year'])['Observed','Evapotranspiration','Precipitation'].median().reset_index()\n",
    "unique_segment_ids = segment_year_median['Segment_id'].unique()\n",
    "\n",
    "# Determine the number of rows and columns for subplots\n",
    "num_rows = (len(unique_segment_ids) + 1) // 2  # Add 1 and use floor division\n",
    "num_cols = 2\n",
    "\n",
    "# Create subplots\n",
    "fig, axes = plt.subplots(num_rows, num_cols, figsize=(16, 12))\n",
    "\n",
    "# Flatten axes if necessary\n",
    "if len(unique_segment_ids) > 1:\n",
    "    axes = axes.flatten()\n",
    "\n",
    "# Iterate over segment IDs and plot on subplots\n",
    "for i, segment_id in enumerate(unique_segment_ids):\n",
    "    segment_data = segment_year_median[segment_year_median['Segment_id'] == segment_id]\n",
    "    ax = axes[i] if len(unique_segment_ids) > 1 else axes\n",
    "    ax.plot(segment_data['Year'], segment_data['Observed'])\n",
    "    ax.plot(segment_data['Year'], segment_data['Evapotranspiration'])\n",
    "    ax.plot(segment_data['Year'], segment_data['Precipitation'])\n",
    "    ax.set_title(f'Segment {segment_id}')\n",
    "    ax.set_xlabel('Year')\n",
    "    ax.set_ylabel('Observed')\n",
    "\n",
    "# Adjust layout\n",
    "plt.show()\n"
   ]
  },
  {
   "cell_type": "markdown",
   "metadata": {},
   "source": [
    "Data observed over months "
   ]
  },
  {
   "cell_type": "code",
   "execution_count": null,
   "metadata": {},
   "outputs": [],
   "source": [
    "sns.lineplot(data=df, x=\"Month\", y=\"Evapotranspiration\")\n",
    "plt.title(\"Evapotranspiration over Months\")\n",
    "\n",
    "plt.figure()\n",
    "sns.lineplot(data=df, x=\"Month\", y=\"Precipitation\")\n",
    "plt.title(\"Precipitation over Months\")\n",
    "\n",
    "plt.figure()\n",
    "sns.lineplot(data=df, x=\"Month\", y=\"Irrigation_pumping\")\n",
    "plt.title(\"Irrigation_pumping over Months\")"
   ]
  },
  {
   "cell_type": "code",
   "execution_count": null,
   "metadata": {},
   "outputs": [],
   "source": [
    "sns.lineplot(data=df, x=\"days_since_rec_start\", y=\"Evapotranspiration\")\n",
    "plt.title(\"Evapotranspiration over Baseflow Recession\")\n",
    "\n",
    "plt.figure()\n",
    "sns.lineplot(data=df, x=\"days_since_rec_start\", y=\"Precipitation\")\n",
    "plt.title(\"Precipitation over Baseflow Recession\")\n",
    "\n",
    "plt.figure()\n",
    "sns.lineplot(data=df, x=\"days_since_rec_start\", y=\"Irrigation_pumping\")\n",
    "plt.title(\"Irrigation_pumping over Baseflow Recession\")"
   ]
  },
  {
   "cell_type": "markdown",
   "metadata": {
    "id": "NoTk9NcUObHc"
   },
   "source": [
    "## Linear Regression"
   ]
  },
  {
   "cell_type": "markdown",
   "metadata": {
    "id": "4K_17SbGSZkB"
   },
   "source": [
    "### Using \"formula notation\""
   ]
  },
  {
   "cell_type": "code",
   "execution_count": null,
   "metadata": {
    "colab": {
     "base_uri": "https://localhost:8080/"
    },
    "id": "UxRU1zkkOaeg",
    "outputId": "35332cfe-e8b0-4c15-9bfc-796b9b15c8ab"
   },
   "outputs": [],
   "source": [
    "\n",
    "lm = smf.ols(formula='Observed ~ Segment_id\t+ x + y + Month + Year +  Evapotranspiration + Precipitation + Irrigation_pumping', data=df).fit()\n",
    "\n",
    "# print a summary of the fitted model\n",
    "print(lm.summary())"
   ]
  },
  {
   "cell_type": "markdown",
   "metadata": {
    "id": "EMVe6w8nZoam"
   },
   "source": [
    "### LinearRegression"
   ]
  },
  {
   "cell_type": "code",
   "execution_count": null,
   "metadata": {
    "colab": {
     "base_uri": "https://localhost:8080/"
    },
    "id": "6xbAUDrOQGJU",
    "outputId": "1238c604-4d57-4c8c-b749-420c3c96efce"
   },
   "outputs": [],
   "source": [
    "df.columns"
   ]
  },
  {
   "cell_type": "markdown",
   "metadata": {
    "id": "YkQ5Di0bhTYg"
   },
   "source": [
    "With One-hot encode"
   ]
  },
  {
   "cell_type": "code",
   "execution_count": null,
   "metadata": {
    "colab": {
     "base_uri": "https://localhost:8080/"
    },
    "id": "kCfeediUPwYa",
    "outputId": "815db8f1-64e1-4316-c884-e7b83c28dbe1"
   },
   "outputs": [],
   "source": [
    "feature_cols = ['Segment_id', 'x', 'y', 'Evapotranspiration', 'Precipitation',\n",
    "       'Irrigation_pumping', 'Year', 'Month']\n",
    "\n",
    "# X = df[feature_cols]\n",
    "y = df['Observed']\n",
    "\n",
    "# One-hot encode categorical variables\n",
    "X = pd.get_dummies(df[feature_cols], columns=['Segment_id', 'x', 'y'], drop_first=True)\n",
    "\n",
    "# Split the data into training and testing sets\n",
    "X_train, X_test, y_train, y_test = train_test_split(X, y, test_size=0.2, random_state=42)\n",
    "\n",
    "# Fit the model\n",
    "lm = LinearRegression()\n",
    "lm.fit(X_train, y_train)\n",
    "\n",
    "# Make predictions on the test data\n",
    "y_pred = lm.predict(X_test)\n",
    "\n",
    "from sklearn.metrics import mean_absolute_error, mean_squared_error, r2_score\n",
    "\n",
    "# Calculate evaluation metrics\n",
    "mae = mean_absolute_error(y_test, y_pred)\n",
    "mse = mean_squared_error(y_test, y_pred)\n",
    "rmse = mean_squared_error(y_test, y_pred, squared=False)\n",
    "r2 = r2_score(y_test, y_pred)\n",
    "\n",
    "print(f'Mean Absolute Error (MAE): {mae}')\n",
    "print(f'Mean Squared Error (MSE): {mse}')\n",
    "print(f'Root Mean Squared Error (RMSE): {rmse}')\n",
    "print(f'R-squared (R2): {r2}')\n"
   ]
  },
  {
   "cell_type": "markdown",
   "metadata": {
    "id": "hPWRkGs9hbUl"
   },
   "source": [
    "without One-hot encode"
   ]
  },
  {
   "cell_type": "code",
   "execution_count": null,
   "metadata": {
    "colab": {
     "base_uri": "https://localhost:8080/"
    },
    "id": "-3TPKvBXhdBF",
    "outputId": "3074b35f-140b-4393-cb03-6fefa342253f"
   },
   "outputs": [],
   "source": [
    "feature_cols = ['Segment_id', 'x', 'y', 'Evapotranspiration', 'Precipitation',\n",
    "       'Irrigation_pumping', 'Year', 'Month']\n",
    "\n",
    "X = df[feature_cols]\n",
    "y = df['Observed']\n",
    "\n",
    "# Split the data into training and testing sets\n",
    "X_train, X_test, y_train, y_test = train_test_split(X, y, test_size=0.2, random_state=42)\n",
    "\n",
    "# Fit the model\n",
    "lm = LinearRegression()\n",
    "lm.fit(X_train, y_train)\n",
    "\n",
    "# Make predictions on the test data\n",
    "y_pred = lm.predict(X_test)\n",
    "\n",
    "from sklearn.metrics import mean_absolute_error, mean_squared_error, r2_score\n",
    "\n",
    "# Calculate evaluation metrics\n",
    "mae = mean_absolute_error(y_test, y_pred)\n",
    "mse = mean_squared_error(y_test, y_pred)\n",
    "rmse = mean_squared_error(y_test, y_pred, squared=False)\n",
    "r2 = r2_score(y_test, y_pred)\n",
    "\n",
    "print(f'Mean Absolute Error (MAE): {mae}')\n",
    "print(f'Mean Squared Error (MSE): {mse}')\n",
    "print(f'Root Mean Squared Error (RMSE): {rmse}')\n",
    "print(f'R-squared (R2): {r2}')\n"
   ]
  }
 ],
 "metadata": {
  "colab": {
   "provenance": []
  },
  "kernelspec": {
   "display_name": "Python 3 (ipykernel)",
   "language": "python",
   "name": "python3"
  },
  "language_info": {
   "codemirror_mode": {
    "name": "ipython",
    "version": 3
   },
   "file_extension": ".py",
   "mimetype": "text/x-python",
   "name": "python",
   "nbconvert_exporter": "python",
   "pygments_lexer": "ipython3",
   "version": "3.11.4"
  }
 },
 "nbformat": 4,
 "nbformat_minor": 1
}
