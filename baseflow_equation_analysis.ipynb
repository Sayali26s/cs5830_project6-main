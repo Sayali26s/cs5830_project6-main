{
 "cells": [
  {
   "cell_type": "code",
   "execution_count": null,
   "id": "94996882",
   "metadata": {},
   "outputs": [],
   "source": [
    "from sklearn.neighbors import NearestNeighbors\n",
    "from sklearn.metrics import r2_score, mean_absolute_error,mean_squared_error\n",
    "import pandas as pd\n",
    "from datetime import date, timedelta\n",
    "import seaborn as sns\n",
    "import matplotlib.pyplot as plt\n",
    "import numpy as np\n",
    "import math\n"
   ]
  },
  {
   "cell_type": "code",
   "execution_count": null,
   "id": "c4c5589c",
   "metadata": {},
   "outputs": [],
   "source": [
    "fix_idio = 693963\n",
    "def convert_to_datetime(days):\n",
    "    start = date(1900,1,1)  \n",
    "    delta = timedelta(days)\n",
    "    offset = start + delta\n",
    "    return offset\n"
   ]
  },
  {
   "cell_type": "code",
   "execution_count": null,
   "id": "b5173c22",
   "metadata": {},
   "outputs": [],
   "source": [
    "baseflow_df = pd.read_csv(\"RRCA_baseflow.csv\")"
   ]
  },
  {
   "cell_type": "code",
   "execution_count": null,
   "id": "8a2e1769",
   "metadata": {},
   "outputs": [],
   "source": [
    "baseflow_df[\"Date\"] = baseflow_df[\"Date\"] - fix_idio \n",
    "baseflow_df[\"Segment_id\"] = baseflow_df[\"Segment_id\"].astype(str)\n",
    "baseflow_df[\"DateTime\"] = baseflow_df[\"Date\"].apply(lambda days: convert_to_datetime(days))\n",
    "baseflow_df[\"month\"] = baseflow_df['DateTime'].apply(lambda x: x.strftime(\"%m\")).astype(int)\n",
    "baseflow_df[\"year\"] = baseflow_df['DateTime'].apply(lambda x: x.strftime(\"%Y\")).astype(int)\n",
    "baseflow_df[\"month_shifted\"] =  abs( baseflow_df[\"month\"]-7)\n",
    "baseflow_df[\"days_since_rec_start\"] = (6-baseflow_df[\"month_shifted\"]) * 30\n"
   ]
  },
  {
   "cell_type": "code",
   "execution_count": null,
   "id": "2e40d84a",
   "metadata": {},
   "outputs": [],
   "source": [
    "baseflow_df.head()"
   ]
  },
  {
   "cell_type": "code",
   "execution_count": null,
   "id": "dcd34f54",
   "metadata": {},
   "outputs": [],
   "source": [
    "# baseflow_df.corr()\n",
    "# baseflow_df.describe()"
   ]
  },
  {
   "cell_type": "code",
   "execution_count": null,
   "id": "72ed4acd",
   "metadata": {},
   "outputs": [],
   "source": [
    "sns.lineplot(data=baseflow_df, x=\"days_since_rec_start\", y=\"Evapotranspiration\")\n",
    "plt.title(\"Evapotranspiration over Baseflow Recession\")\n",
    "\n",
    "plt.figure()\n",
    "sns.lineplot(data=baseflow_df, x=\"days_since_rec_start\", y=\"Precipitation\")\n",
    "plt.title(\"Precipitation over Baseflow Recession\")\n",
    "\n",
    "plt.figure()\n",
    "sns.lineplot(data=baseflow_df, x=\"days_since_rec_start\", y=\"Irrigation_pumping\")\n",
    "plt.title(\"Irrigation_pumping over Baseflow Recession\")"
   ]
  },
  {
   "cell_type": "markdown",
   "id": "597c5e15",
   "metadata": {},
   "source": [
    "### baseflow equation mess"
   ]
  },
  {
   "cell_type": "markdown",
   "id": "8d7db87b",
   "metadata": {},
   "source": [
    "There is an equation used in hydrology to calculate the baseflow rate X days after the start of the recession period starts. I thought this might be a way to estimate it by:\n",
    "\n",
    "- calculating the slope of decline during this recession period for each segment\n",
    "- using KNN to find the closest segments based on the data provided\n",
    "- use the average of the closest segment's slopes\n",
    "- calculate the samples days since the start of the recession (based on month)\n",
    "- plug things into equation and hope it estimates okay\n",
    "\n",
    "(this has no regressio model in it but I still thought it was kind cool)\n",
    "\n",
    "((it does not peform very well though))"
   ]
  },
  {
   "cell_type": "code",
   "execution_count": null,
   "id": "e043bdb2",
   "metadata": {},
   "outputs": [],
   "source": [
    "# just based it off of more current data as that is what I read about. 5 years is arbitrary though. not sure what the standard amount is.\n",
    "current_data = baseflow_df[baseflow_df[\"year\"] >= 1995].copy()\n",
    "current_data.head()"
   ]
  },
  {
   "cell_type": "code",
   "execution_count": null,
   "id": "34cc298a",
   "metadata": {},
   "outputs": [],
   "source": [
    "sns.lineplot(data=current_data, x=\"days_since_rec_start\", y=\"Observed\", hue=\"Segment_id\")\n",
    "plt.figure()\n",
    "sns.regplot(data=current_data, x=\"month_shifted\", y=\"Observed\")\n"
   ]
  },
  {
   "cell_type": "code",
   "execution_count": null,
   "id": "00a0547f",
   "metadata": {},
   "outputs": [],
   "source": [
    "monthly_mean = current_data.groupby([\"month_shifted\", \"Segment_id\"]).agg({\"Observed\":\"mean\", \"days_since_rec_start\":\"min\"}).reset_index()\n",
    "\n",
    "equation = monthly_mean.groupby([\"Segment_id\"]).agg(max_q=(\"Observed\",\"max\"), min_q=(\"Observed\",\"min\")).reset_index()\n",
    "equation[\"division\"] = abs(equation[\"min_q\"]/equation[\"max_q\"])\n",
    "equation[\"neg_at\"] = equation[\"division\"].apply(lambda x: -(1/180)*math.log(x))\n",
    "\n",
    "equation"
   ]
  },
  {
   "cell_type": "code",
   "execution_count": null,
   "id": "756217da",
   "metadata": {},
   "outputs": [],
   "source": [
    "columns = [\"Date\",\"Evapotranspiration\", \"Precipitation\", \"y\", \"x\", \"Irrigation_pumping\", \"days_since_rec_start\"]\n",
    "\n",
    "# Sample 5 rows\n",
    "sample_index = current_data.sample(30).index\n",
    "sample = current_data.loc[sample_index, columns]\n",
    "y_true = current_data.loc[sample_index, \"Observed\"]\n",
    "\n",
    "# Drop the sampled rows from X\n",
    "X = current_data.drop(index=sample_index)\n",
    "y = X[\"Observed\"]\n",
    "X = X.drop(columns=[\"Observed\"])\n",
    "X = X[columns]\n",
    "\n",
    "# Initialize and fit NearestNeighbors model\n",
    "nbrs = NearestNeighbors(n_neighbors=3, algorithm='ball_tree').fit(X)\n",
    "\n",
    "y_preds = []\n",
    "\n",
    "# Find nearest neighbors of the sample\n",
    "for idx in sample_index:\n",
    "\n",
    "    distances, indices = nbrs.kneighbors(sample.loc[[idx]])\n",
    "    \n",
    "    # Display the nearest neighbors and the sample\n",
    "#     print(\"Nearest Neighbors:\")\n",
    "#     display(removed_outliers.iloc[indices[0]])\n",
    "#     print(\"\\nSample:\")\n",
    "#     display(sample)\n",
    "\n",
    "    nn = current_data.iloc[indices[0]][\"Segment_id\"].values\n",
    "    new_neg_at = 0\n",
    "    new_q0 = 0\n",
    "    for sid in nn:\n",
    "        neg_at = equation[equation[\"Segment_id\"] == sid][\"neg_at\"].values[0]\n",
    "        new_neg_at += neg_at\n",
    "\n",
    "        new_q0 += equation[equation[\"Segment_id\"] == sid][\"max_q\"].values[0]\n",
    "\n",
    "    # Extract the days since start for sample\n",
    "    d = sample[\"days_since_rec_start\"].values[0]\n",
    "    \n",
    "    # average flow slope\n",
    "    neg_at = new_neg_at/len(nn)\n",
    "    \n",
    "    # new baseflow estimate \n",
    "    new_flow = new_q0*math.exp(-neg_at * d)\n",
    "\n",
    "    y_preds.append(new_flow)\n",
    "\n",
    "# print(y_true.values)\n",
    "# print(y_preds)\n"
   ]
  },
  {
   "cell_type": "code",
   "execution_count": null,
   "id": "6188cf56",
   "metadata": {},
   "outputs": [],
   "source": [
    "print(\"MAE: \", mean_absolute_error(y_true.values, y_preds))\n",
    "print(\"MSE: \", mean_squared_error(y_true.values, y_preds, squared=False))\n",
    "print(\"R2: \", r2_score(y_true.values, y_preds))\n",
    "sns.scatterplot(x=y_true.values, y=y_preds)"
   ]
  }
 ],
 "metadata": {
  "kernelspec": {
   "display_name": "Python 3 (ipykernel)",
   "language": "python",
   "name": "python3"
  },
  "language_info": {
   "codemirror_mode": {
    "name": "ipython",
    "version": 3
   },
   "file_extension": ".py",
   "mimetype": "text/x-python",
   "name": "python",
   "nbconvert_exporter": "python",
   "pygments_lexer": "ipython3",
   "version": "3.11.4"
  }
 },
 "nbformat": 4,
 "nbformat_minor": 5
}
